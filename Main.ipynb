{
 "cells": [
  {
   "cell_type": "code",
   "execution_count": 8,
   "id": "31094102-8c08-41c7-88e3-06777d1e3930",
   "metadata": {},
   "outputs": [],
   "source": [
    "import pyspark\n",
    "sc = spark.sparkContext\n"
   ]
  },
  {
   "cell_type": "code",
   "execution_count": 9,
   "id": "1b5997f0-f23b-4ad4-937a-a3560e1ec70e",
   "metadata": {},
   "outputs": [
    {
     "name": "stderr",
     "output_type": "stream",
     "text": [
      "                                                                                \r"
     ]
    },
    {
     "data": {
      "text/plain": [
       "'\\ndfUsers = spark.read     .format(\"com.databricks.spark.xml\")    .option(\"rowTag\", \"row\")     .option(\"rootTag\", \"users\")     .load(\"./puzzling.stackexchange.com/Users.xml\")\\n\\ndfVotes = spark.read     .format(\"com.databricks.spark.xml\")    .option(\"rowTag\", \"row\")     .option(\"rootTag\", \"votes\")     .load(\"./puzzling.stackexchange.com/Votes.xml\")\\n\\ndfTags = spark.read     .format(\"com.databricks.spark.xml\")    .option(\"rowTag\", \"row\")     .option(\"rootTag\", \"tags\")     .load(\"./puzzling.stackexchange.com/Tags.xml\")\\n'"
      ]
     },
     "execution_count": 9,
     "metadata": {},
     "output_type": "execute_result"
    }
   ],
   "source": [
    "dfPosts = spark.read \\\n",
    "    .format(\"com.databricks.spark.xml\")\\\n",
    "    .option(\"rowTag\", \"row\") \\\n",
    "    .option(\"rootTag\", \"posts\") \\\n",
    "    .load(\"./puzzling.stackexchange.com/Posts.xml\")\n",
    "'''\n",
    "dfUsers = spark.read \\\n",
    "    .format(\"com.databricks.spark.xml\")\\\n",
    "    .option(\"rowTag\", \"row\") \\\n",
    "    .option(\"rootTag\", \"users\") \\\n",
    "    .load(\"./puzzling.stackexchange.com/Users.xml\")\n",
    "\n",
    "dfVotes = spark.read \\\n",
    "    .format(\"com.databricks.spark.xml\")\\\n",
    "    .option(\"rowTag\", \"row\") \\\n",
    "    .option(\"rootTag\", \"votes\") \\\n",
    "    .load(\"./puzzling.stackexchange.com/Votes.xml\")\n",
    "\n",
    "dfTags = spark.read \\\n",
    "    .format(\"com.databricks.spark.xml\")\\\n",
    "    .option(\"rowTag\", \"row\") \\\n",
    "    .option(\"rootTag\", \"tags\") \\\n",
    "    .load(\"./puzzling.stackexchange.com/Tags.xml\")\n",
    "'''"
   ]
  },
  {
   "cell_type": "code",
   "execution_count": 10,
   "id": "8f08eaf9-d303-4526-9a24-31fa08fbb8fb",
   "metadata": {},
   "outputs": [
    {
     "name": "stdout",
     "output_type": "stream",
     "text": [
      "+-----------------+------------+--------------------+-----------+-------------+-------------------+---------------+--------------------+--------------+---+--------------------+--------------------+----------------------+-----------------+-----------------+------------+---------+-----------+------+--------------------+--------------------+----------+\n",
      "|_AcceptedAnswerId|_AnswerCount|               _Body|_ClosedDate|_CommentCount|_CommunityOwnedDate|_ContentLicense|       _CreationDate|_FavoriteCount|_Id|   _LastActivityDate|       _LastEditDate|_LastEditorDisplayName|_LastEditorUserId|_OwnerDisplayName|_OwnerUserId|_ParentId|_PostTypeId|_Score|               _Tags|              _Title|_ViewCount|\n",
      "+-----------------+------------+--------------------+-----------+-------------+-------------------+---------------+--------------------+--------------+---+--------------------+--------------------+----------------------+-----------------+-----------------+------------+---------+-----------+------+--------------------+--------------------+----------+\n",
      "|              147|           2|<p>Most American ...|       NULL|            7|               NULL|   CC BY-SA 3.0|2014-05-14 22:17:...|          NULL|  1|2014-12-07 18:02:...|2014-12-07 18:02:...|                  NULL|             2383|             NULL|           5|     NULL|          1|    29|<puzzle-creation>...|Are there \"rules\"...|      1781|\n",
      "|             NULL|           4|<p>I've seen Sudo...|       NULL|            7|               NULL|   CC BY-SA 3.0|2014-05-14 22:23:...|          NULL|  2|2021-09-05 08:57:...|2021-09-04 21:11:...|                  NULL|            69582|             NULL|          10|     NULL|          1|    60|<logical-deductio...|What is the maxim...|     82605|\n",
      "|             NULL|        NULL|<p>I have seen tw...|       NULL|            3|               NULL|   CC BY-SA 3.0|2014-05-14 22:39:...|          NULL|  4|2017-07-27 20:38:...|2017-07-27 20:38:...|                  NULL|               -1|             NULL|          14|        2|          2|    28|                NULL|                NULL|      NULL|\n",
      "|             NULL|        NULL|<p>By definition,...|       NULL|            1|               NULL|   CC BY-SA 3.0|2014-05-14 22:39:...|          NULL|  5|2014-05-14 22:39:...|                NULL|                  NULL|             NULL|             NULL|          33|        2|          2|    12|                NULL|                NULL|      NULL|\n",
      "|             NULL|        NULL|<p>Most Sudoku pu...|       NULL|            9|               NULL|   CC BY-SA 3.0|2014-05-14 22:39:...|          NULL|  6|2014-05-14 22:39:...|                NULL|                  NULL|             NULL|             NULL|          18|        2|          2|    44|                NULL|                NULL|      NULL|\n",
      "+-----------------+------------+--------------------+-----------+-------------+-------------------+---------------+--------------------+--------------+---+--------------------+--------------------+----------------------+-----------------+-----------------+------------+---------+-----------+------+--------------------+--------------------+----------+\n",
      "\n"
     ]
    }
   ],
   "source": [
    "dfPosts.limit(5).show()"
   ]
  },
  {
   "cell_type": "code",
   "execution_count": 11,
   "id": "a6a7ebc3-2677-414d-b4b2-269a76206342",
   "metadata": {},
   "outputs": [
    {
     "name": "stderr",
     "output_type": "stream",
     "text": [
      "[Stage 11:>                                                         (0 + 1) / 1]\r"
     ]
    },
    {
     "name": "stdout",
     "output_type": "stream",
     "text": [
      "+--------------------+-----------------+\n",
      "|              noHTML|slen(_BodyNoHTML)|\n",
      "+--------------------+-----------------+\n",
      "|Most American cro...|              615|\n",
      "|I've seen Sudoku ...|              352|\n",
      "|I have seen two d...|              863|\n",
      "|By definition, al...|              281|\n",
      "|Most Sudoku puzzl...|              764|\n",
      "+--------------------+-----------------+\n",
      "only showing top 5 rows\n",
      "\n"
     ]
    },
    {
     "name": "stderr",
     "output_type": "stream",
     "text": [
      "                                                                                \r"
     ]
    }
   ],
   "source": [
    "from pyspark.sql.types import IntegerType, StringType\n",
    "from pyspark.sql.functions import udf\n",
    "from bs4 import BeautifulSoup\n",
    "\n",
    "slen = udf(lambda s: len(BeautifulSoup(s).get_text()), IntegerType())\n",
    "mstr = udf(lambda s: BeautifulSoup(s).get_text(), StringType())\n",
    "\n",
    "dfPosts.select( \\\n",
    "    mstr(dfPosts._Body).alias(\"noHTML\"), \\\n",
    "    slen(\"_Body\").alias(\"slen(_BodyNoHTML)\")\\\n",
    ").show(5)"
   ]
  },
  {
   "cell_type": "code",
   "execution_count": null,
   "id": "0d922c59-dfde-4453-a68e-f94520573393",
   "metadata": {},
   "outputs": [],
   "source": []
  }
 ],
 "metadata": {
  "kernelspec": {
   "display_name": "Python 3 (ipykernel)",
   "language": "python",
   "name": "python3"
  },
  "language_info": {
   "codemirror_mode": {
    "name": "ipython",
    "version": 3
   },
   "file_extension": ".py",
   "mimetype": "text/x-python",
   "name": "python",
   "nbconvert_exporter": "python",
   "pygments_lexer": "ipython3",
   "version": "3.11.7"
  }
 },
 "nbformat": 4,
 "nbformat_minor": 5
}
